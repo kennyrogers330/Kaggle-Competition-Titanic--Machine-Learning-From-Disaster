{
 "cells": [
  {
   "cell_type": "code",
   "execution_count": 22,
   "metadata": {},
   "outputs": [
    {
     "name": "stdout",
     "output_type": "stream",
     "text": [
      "Done\n"
     ]
    }
   ],
   "source": [
    "import numpy as np \n",
    "import pandas as pd \n",
    "from sklearn.linear_model import LogisticRegression\n",
    "import seaborn as sns\n",
    "\n",
    "#This function serves to clean the train dataset and make it ready to be fit in a ML model\n",
    "def data_clean_up(dataset):\n",
    "    \n",
    "    key_val = {'male': 0, 'female': 1} \n",
    "    dataset['Sex'] = dataset['Sex'].map(key_val)\n",
    "    \n",
    "    key_val2 = {'Q': 0, 'S': 1, 'C': 2} \n",
    "    dataset['Embarked'] = dataset['Embarked'].map(key_val2)\n",
    "    \n",
    "    features = ['Pclass', 'Age', 'Sex', 'Parch', 'Fare', 'SibSp', 'Embarked','Survived']\n",
    "    dataset = dataset[features]\n",
    "\n",
    "    sns.heatmap(dataset.corr(),annot=True)\n",
    "\n",
    "    data = dataset.fillna(dataset.mean())\n",
    "    \n",
    "    return data\n",
    "\n",
    "#This function serves to clean the test dataset and make it ready to be fit in a ML model\n",
    "\n",
    "def test_data_clean_up(dataset):\n",
    "    key_val = {'male': 0, 'female': 1} \n",
    "    dataset['Sex'] = dataset['Sex'].map(key_val)\n",
    "    \n",
    "    key_val2 = {'Q': 0, 'S': 1, 'C': 2} \n",
    "    dataset['Embarked'] = dataset['Embarked'].map(key_val2)\n",
    "   \n",
    "    features = ['Pclass', 'Age', 'Sex', 'Parch', 'Fare', 'SibSp', 'Embarked']\n",
    "    dataset = dataset[features]\n",
    "    data = dataset.fillna(dataset.mean())\n",
    "    \n",
    "    return data\n",
    "\n",
    "#Read the train dataset and clean it\n",
    "train_dataset = pd.read_csv('train.csv')\n",
    "train = data_clean_up(train_dataset)\n",
    "X = train[['Pclass', 'Sex', 'Age', 'Parch', 'Fare', 'SibSp', 'Embarked']]\n",
    "y = train['Survived']\n",
    "\n",
    "#Create an instance of the LogisticRegression model\n",
    "logistic_model = LogisticRegression(max_iter=1000)\n",
    "#Fit the model using the train dataset\n",
    "logistic_model.fit(X, y)\n",
    "\n",
    "##Read the test dataset and clean it\n",
    "test_dataset = pd.read_csv('test.csv')\n",
    "test = test_data_clean_up(test_dataset)\n",
    "X_test = test[['Pclass', 'Sex', 'Age', 'Parch', 'Fare', 'SibSp', 'Embarked']]\n",
    "\n",
    "#Predict the survival of the people in the test dataset\n",
    "surival_pred = logistic_model.predict(X_test)\n",
    "\n",
    "#Generate a csv file of the survival status of the test dataset people\n",
    "results = pd.DataFrame({'PassengerId': test_dataset.PassengerId, 'Survived': surival_pred})\n",
    "results.to_csv(\"mkennyro.csv\", index=False)\n",
    "print(\"Done\")\n"
   ]
  }
 ],
 "metadata": {
  "kernelspec": {
   "display_name": "Python 3",
   "language": "python",
   "name": "python3"
  },
  "language_info": {
   "codemirror_mode": {
    "name": "ipython",
    "version": 3
   },
   "file_extension": ".py",
   "mimetype": "text/x-python",
   "name": "python",
   "nbconvert_exporter": "python",
   "pygments_lexer": "ipython3",
   "version": "3.11.5"
  }
 },
 "nbformat": 4,
 "nbformat_minor": 2
}
